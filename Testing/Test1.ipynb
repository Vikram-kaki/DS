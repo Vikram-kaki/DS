{
 "cells": [
  {
   "cell_type": "code",
   "execution_count": 3,
   "metadata": {
    "collapsed": true,
    "ExecuteTime": {
     "end_time": "2023-09-25T13:17:01.443182700Z",
     "start_time": "2023-09-25T13:17:01.341300700Z"
    }
   },
   "outputs": [
    {
     "name": "stdout",
     "output_type": "stream",
     "text": [
      "[['z', 'z', 'z', 'z', 'z', 'z', 'z'], ['z', 'z', 'z', 'z', 'z', 'z', 'z'], ['z', 'z', 'z', 'z', 'z', 'z', 'z'], ['z', 'z', 'z', 'z', 'z', 'z', 'z'], ['z', 'z', 'z', 'z', 'z', 'z', 'z'], ['z', 'z', 'z', 'z', 'z', 'z', 'z'], ['z', 'z', 'z', 'z', 'z', 'z', 'z']]\n",
      "8\n",
      "[['z', 'z', 'z', 'z', 'z', 'z', 'z'], ['z', 'z', 'z', 'z', 'z', 'z', 'z'], ['z', 'z', 'z', 'z', 'z', 'z', 'z'], ['z', 'z', 'z', 'z', 'z', 'z', 'z'], ['z', 'z', 'z', 'z', 'z', 'z', 'z'], ['z', 'z', 'z', 'z', 'z', 'z', 'z'], ['z', 'z', 'z', 'z', 'z', 'z', 'z']]\n",
      "None\n"
     ]
    }
   ],
   "source": [
    "def war(m,n,targets,coloums,rows):\n",
    "\n",
    "    matrix = []\n",
    "    for i in range(m):\n",
    "        matrix.append([])\n",
    "        for j in range(n):\n",
    "            matrix[i].append('z')\n",
    "\n",
    "    print(matrix)\n",
    "\n",
    "    values = []\n",
    "    minlength = min(len(coloums), len(rows))\n",
    "\n",
    "    print(minlength)\n",
    "    # for i in range(len(values)):\n",
    "    #     matrix[values[1],values[0]] = targets[i]\n",
    "\n",
    "    print(matrix)\n",
    "\n",
    "\n",
    "print(war(7, 7, ['a', 'b', 'c', 'd', 'e', 'f', 'g', 'h', 'i', 'j', 'k'],\n",
    "          [5, 1, 6, 3, 3, 4, 5, 0, 5, 3, 5], [0, 1, 3, 4, 7, 8, 9, 11]))"
   ]
  }
 ],
 "metadata": {
  "kernelspec": {
   "display_name": "Python 3",
   "language": "python",
   "name": "python3"
  },
  "language_info": {
   "codemirror_mode": {
    "name": "ipython",
    "version": 2
   },
   "file_extension": ".py",
   "mimetype": "text/x-python",
   "name": "python",
   "nbconvert_exporter": "python",
   "pygments_lexer": "ipython2",
   "version": "2.7.6"
  }
 },
 "nbformat": 4,
 "nbformat_minor": 0
}
