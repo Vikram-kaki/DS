{
 "cells": [
  {
   "cell_type": "markdown",
   "metadata": {},
   "source": [
    "# World Happy Index"
   ]
  },
  {
   "cell_type": "markdown",
   "metadata": {},
   "source": [
    "##### Note : Make Sure to Open the file in excel.\n",
    "Excel provides better understanding of data.\n",
    "We can also perform the data cleaning in the excel. (InFact it's preferable to clean the data in excel)"
   ]
  },
  {
   "cell_type": "markdown",
   "metadata": {},
   "source": [
    "## Importing the necessary Libraries."
   ]
  },
  {
   "cell_type": "code",
   "execution_count": 2,
   "metadata": {},
   "outputs": [],
   "source": [
    "import pandas as pd\n",
    "import numpy as np\n",
    "import matplotlib.pyplot as plt\n",
    "import seaborn as sns\n",
    "import sklearn as sk\n",
    "%matplotlib inline"
   ]
  },
  {
   "cell_type": "markdown",
   "metadata": {},
   "source": [
    "## Reading the dataset"
   ]
  },
  {
   "cell_type": "code",
   "execution_count": 3,
   "metadata": {},
   "outputs": [],
   "source": [
    "file1 = pd.read_csv('./DataSets/WRH.csv')"
   ]
  },
  {
   "cell_type": "code",
   "execution_count": 4,
   "metadata": {},
   "outputs": [
    {
     "data": {
      "text/html": [
       "<div>\n",
       "<style scoped>\n",
       "    .dataframe tbody tr th:only-of-type {\n",
       "        vertical-align: middle;\n",
       "    }\n",
       "\n",
       "    .dataframe tbody tr th {\n",
       "        vertical-align: top;\n",
       "    }\n",
       "\n",
       "    .dataframe thead th {\n",
       "        text-align: right;\n",
       "    }\n",
       "</style>\n",
       "<table border=\"1\" class=\"dataframe\">\n",
       "  <thead>\n",
       "    <tr style=\"text-align: right;\">\n",
       "      <th></th>\n",
       "      <th>Country name</th>\n",
       "      <th>year</th>\n",
       "      <th>Life Ladder</th>\n",
       "      <th>Log GDP per capita</th>\n",
       "      <th>Social support</th>\n",
       "      <th>Healthy life expectancy at birth</th>\n",
       "      <th>Freedom to make life choices</th>\n",
       "      <th>Generosity</th>\n",
       "      <th>Perceptions of corruption</th>\n",
       "      <th>Positive affect</th>\n",
       "      <th>Negative affect</th>\n",
       "    </tr>\n",
       "  </thead>\n",
       "  <tbody>\n",
       "    <tr>\n",
       "      <th>0</th>\n",
       "      <td>Afghanistan</td>\n",
       "      <td>2008</td>\n",
       "      <td>3.724</td>\n",
       "      <td>7.370</td>\n",
       "      <td>0.451</td>\n",
       "      <td>50.80</td>\n",
       "      <td>0.718</td>\n",
       "      <td>0.168</td>\n",
       "      <td>0.882</td>\n",
       "      <td>0.518</td>\n",
       "      <td>0.258</td>\n",
       "    </tr>\n",
       "    <tr>\n",
       "      <th>1</th>\n",
       "      <td>Afghanistan</td>\n",
       "      <td>2009</td>\n",
       "      <td>4.402</td>\n",
       "      <td>7.540</td>\n",
       "      <td>0.552</td>\n",
       "      <td>51.20</td>\n",
       "      <td>0.679</td>\n",
       "      <td>0.190</td>\n",
       "      <td>0.850</td>\n",
       "      <td>0.584</td>\n",
       "      <td>0.237</td>\n",
       "    </tr>\n",
       "    <tr>\n",
       "      <th>2</th>\n",
       "      <td>Afghanistan</td>\n",
       "      <td>2010</td>\n",
       "      <td>4.758</td>\n",
       "      <td>7.647</td>\n",
       "      <td>0.539</td>\n",
       "      <td>51.60</td>\n",
       "      <td>0.600</td>\n",
       "      <td>0.121</td>\n",
       "      <td>0.707</td>\n",
       "      <td>0.618</td>\n",
       "      <td>0.275</td>\n",
       "    </tr>\n",
       "    <tr>\n",
       "      <th>3</th>\n",
       "      <td>Afghanistan</td>\n",
       "      <td>2011</td>\n",
       "      <td>3.832</td>\n",
       "      <td>7.620</td>\n",
       "      <td>0.521</td>\n",
       "      <td>51.92</td>\n",
       "      <td>0.496</td>\n",
       "      <td>0.162</td>\n",
       "      <td>0.731</td>\n",
       "      <td>0.611</td>\n",
       "      <td>0.267</td>\n",
       "    </tr>\n",
       "    <tr>\n",
       "      <th>4</th>\n",
       "      <td>Afghanistan</td>\n",
       "      <td>2012</td>\n",
       "      <td>3.783</td>\n",
       "      <td>7.705</td>\n",
       "      <td>0.521</td>\n",
       "      <td>52.24</td>\n",
       "      <td>0.531</td>\n",
       "      <td>0.236</td>\n",
       "      <td>0.776</td>\n",
       "      <td>0.710</td>\n",
       "      <td>0.268</td>\n",
       "    </tr>\n",
       "  </tbody>\n",
       "</table>\n",
       "</div>"
      ],
      "text/plain": [
       "  Country name  year  Life Ladder  Log GDP per capita  Social support  \\\n",
       "0  Afghanistan  2008        3.724               7.370           0.451   \n",
       "1  Afghanistan  2009        4.402               7.540           0.552   \n",
       "2  Afghanistan  2010        4.758               7.647           0.539   \n",
       "3  Afghanistan  2011        3.832               7.620           0.521   \n",
       "4  Afghanistan  2012        3.783               7.705           0.521   \n",
       "\n",
       "   Healthy life expectancy at birth  Freedom to make life choices  Generosity  \\\n",
       "0                             50.80                         0.718       0.168   \n",
       "1                             51.20                         0.679       0.190   \n",
       "2                             51.60                         0.600       0.121   \n",
       "3                             51.92                         0.496       0.162   \n",
       "4                             52.24                         0.531       0.236   \n",
       "\n",
       "   Perceptions of corruption  Positive affect  Negative affect  \n",
       "0                      0.882            0.518            0.258  \n",
       "1                      0.850            0.584            0.237  \n",
       "2                      0.707            0.618            0.275  \n",
       "3                      0.731            0.611            0.267  \n",
       "4                      0.776            0.710            0.268  "
      ]
     },
     "execution_count": 4,
     "metadata": {},
     "output_type": "execute_result"
    }
   ],
   "source": [
    "file1.head()"
   ]
  },
  {
   "cell_type": "code",
   "execution_count": 5,
   "metadata": {},
   "outputs": [
    {
     "data": {
      "text/html": [
       "<div>\n",
       "<style scoped>\n",
       "    .dataframe tbody tr th:only-of-type {\n",
       "        vertical-align: middle;\n",
       "    }\n",
       "\n",
       "    .dataframe tbody tr th {\n",
       "        vertical-align: top;\n",
       "    }\n",
       "\n",
       "    .dataframe thead th {\n",
       "        text-align: right;\n",
       "    }\n",
       "</style>\n",
       "<table border=\"1\" class=\"dataframe\">\n",
       "  <thead>\n",
       "    <tr style=\"text-align: right;\">\n",
       "      <th></th>\n",
       "      <th>Country name</th>\n",
       "      <th>year</th>\n",
       "      <th>Life Ladder</th>\n",
       "      <th>Log GDP per capita</th>\n",
       "      <th>Social support</th>\n",
       "      <th>Healthy life expectancy at birth</th>\n",
       "      <th>Freedom to make life choices</th>\n",
       "      <th>Generosity</th>\n",
       "      <th>Perceptions of corruption</th>\n",
       "      <th>Positive affect</th>\n",
       "      <th>Negative affect</th>\n",
       "    </tr>\n",
       "  </thead>\n",
       "  <tbody>\n",
       "    <tr>\n",
       "      <th>1944</th>\n",
       "      <td>Zimbabwe</td>\n",
       "      <td>2016</td>\n",
       "      <td>3.735</td>\n",
       "      <td>7.984</td>\n",
       "      <td>0.768</td>\n",
       "      <td>54.4</td>\n",
       "      <td>0.733</td>\n",
       "      <td>-0.095</td>\n",
       "      <td>0.724</td>\n",
       "      <td>0.738</td>\n",
       "      <td>0.209</td>\n",
       "    </tr>\n",
       "    <tr>\n",
       "      <th>1945</th>\n",
       "      <td>Zimbabwe</td>\n",
       "      <td>2017</td>\n",
       "      <td>3.638</td>\n",
       "      <td>8.016</td>\n",
       "      <td>0.754</td>\n",
       "      <td>55.0</td>\n",
       "      <td>0.753</td>\n",
       "      <td>-0.098</td>\n",
       "      <td>0.751</td>\n",
       "      <td>0.806</td>\n",
       "      <td>0.224</td>\n",
       "    </tr>\n",
       "    <tr>\n",
       "      <th>1946</th>\n",
       "      <td>Zimbabwe</td>\n",
       "      <td>2018</td>\n",
       "      <td>3.616</td>\n",
       "      <td>8.049</td>\n",
       "      <td>0.775</td>\n",
       "      <td>55.6</td>\n",
       "      <td>0.763</td>\n",
       "      <td>-0.068</td>\n",
       "      <td>0.844</td>\n",
       "      <td>0.710</td>\n",
       "      <td>0.212</td>\n",
       "    </tr>\n",
       "    <tr>\n",
       "      <th>1947</th>\n",
       "      <td>Zimbabwe</td>\n",
       "      <td>2019</td>\n",
       "      <td>2.694</td>\n",
       "      <td>7.950</td>\n",
       "      <td>0.759</td>\n",
       "      <td>56.2</td>\n",
       "      <td>0.632</td>\n",
       "      <td>-0.064</td>\n",
       "      <td>0.831</td>\n",
       "      <td>0.716</td>\n",
       "      <td>0.235</td>\n",
       "    </tr>\n",
       "    <tr>\n",
       "      <th>1948</th>\n",
       "      <td>Zimbabwe</td>\n",
       "      <td>2020</td>\n",
       "      <td>3.160</td>\n",
       "      <td>7.829</td>\n",
       "      <td>0.717</td>\n",
       "      <td>56.8</td>\n",
       "      <td>0.643</td>\n",
       "      <td>-0.009</td>\n",
       "      <td>0.789</td>\n",
       "      <td>0.703</td>\n",
       "      <td>0.346</td>\n",
       "    </tr>\n",
       "  </tbody>\n",
       "</table>\n",
       "</div>"
      ],
      "text/plain": [
       "     Country name  year  Life Ladder  Log GDP per capita  Social support  \\\n",
       "1944     Zimbabwe  2016        3.735               7.984           0.768   \n",
       "1945     Zimbabwe  2017        3.638               8.016           0.754   \n",
       "1946     Zimbabwe  2018        3.616               8.049           0.775   \n",
       "1947     Zimbabwe  2019        2.694               7.950           0.759   \n",
       "1948     Zimbabwe  2020        3.160               7.829           0.717   \n",
       "\n",
       "      Healthy life expectancy at birth  Freedom to make life choices  \\\n",
       "1944                              54.4                         0.733   \n",
       "1945                              55.0                         0.753   \n",
       "1946                              55.6                         0.763   \n",
       "1947                              56.2                         0.632   \n",
       "1948                              56.8                         0.643   \n",
       "\n",
       "      Generosity  Perceptions of corruption  Positive affect  Negative affect  \n",
       "1944      -0.095                      0.724            0.738            0.209  \n",
       "1945      -0.098                      0.751            0.806            0.224  \n",
       "1946      -0.068                      0.844            0.710            0.212  \n",
       "1947      -0.064                      0.831            0.716            0.235  \n",
       "1948      -0.009                      0.789            0.703            0.346  "
      ]
     },
     "execution_count": 5,
     "metadata": {},
     "output_type": "execute_result"
    }
   ],
   "source": [
    "file1.tail()"
   ]
  },
  {
   "cell_type": "markdown",
   "metadata": {},
   "source": [
    "## EDA"
   ]
  },
  {
   "cell_type": "markdown",
   "metadata": {},
   "source": [
    "### Checking for duplicates"
   ]
  },
  {
   "cell_type": "code",
   "execution_count": 6,
   "metadata": {},
   "outputs": [
    {
     "data": {
      "text/plain": [
       "0"
      ]
     },
     "execution_count": 6,
     "metadata": {},
     "output_type": "execute_result"
    }
   ],
   "source": [
    "file1.duplicated().sum()"
   ]
  },
  {
   "cell_type": "markdown",
   "metadata": {},
   "source": [
    "There are no duplicates in this dataset"
   ]
  },
  {
   "cell_type": "markdown",
   "metadata": {},
   "source": [
    "## Checking For Null Values"
   ]
  },
  {
   "cell_type": "code",
   "execution_count": 7,
   "metadata": {},
   "outputs": [
    {
     "data": {
      "text/plain": [
       "Country name                          0\n",
       "year                                  0\n",
       "Life Ladder                           0\n",
       "Log GDP per capita                   36\n",
       "Social support                       13\n",
       "Healthy life expectancy at birth     55\n",
       "Freedom to make life choices         32\n",
       "Generosity                           89\n",
       "Perceptions of corruption           110\n",
       "Positive affect                      22\n",
       "Negative affect                      16\n",
       "dtype: int64"
      ]
     },
     "execution_count": 7,
     "metadata": {},
     "output_type": "execute_result"
    }
   ],
   "source": [
    "file1.isna().sum()"
   ]
  },
  {
   "cell_type": "markdown",
   "metadata": {},
   "source": [
    "<!-- * In my Opinion\n",
    "\n",
    "The Data is a continuous Year Data.\n",
    "So we can use the data forward or backward to fill th null values.  -->"
   ]
  },
  {
   "cell_type": "code",
   "execution_count": 8,
   "metadata": {},
   "outputs": [],
   "source": [
    "from sklearn import impute"
   ]
  },
  {
   "cell_type": "code",
   "execution_count": 9,
   "metadata": {},
   "outputs": [],
   "source": [
    "file2 = file1.groupby(file1['Country name']).transform(lambda x: x.ffill().bfill())"
   ]
  },
  {
   "cell_type": "code",
   "execution_count": 10,
   "metadata": {},
   "outputs": [
    {
     "data": {
      "text/plain": [
       "year                                 0\n",
       "Life Ladder                          0\n",
       "Log GDP per capita                  19\n",
       "Social support                       1\n",
       "Healthy life expectancy at birth    36\n",
       "Freedom to make life choices         0\n",
       "Generosity                          19\n",
       "Perceptions of corruption           28\n",
       "Positive affect                      2\n",
       "Negative affect                      1\n",
       "dtype: int64"
      ]
     },
     "execution_count": 10,
     "metadata": {},
     "output_type": "execute_result"
    }
   ],
   "source": [
    "file2.isna().sum()"
   ]
  },
  {
   "cell_type": "code",
   "execution_count": 11,
   "metadata": {},
   "outputs": [],
   "source": [
    "file2.insert(0, 'Country name', file1['Country name'])"
   ]
  },
  {
   "cell_type": "code",
   "execution_count": 12,
   "metadata": {},
   "outputs": [
    {
     "data": {
      "text/html": [
       "<div>\n",
       "<style scoped>\n",
       "    .dataframe tbody tr th:only-of-type {\n",
       "        vertical-align: middle;\n",
       "    }\n",
       "\n",
       "    .dataframe tbody tr th {\n",
       "        vertical-align: top;\n",
       "    }\n",
       "\n",
       "    .dataframe thead th {\n",
       "        text-align: right;\n",
       "    }\n",
       "</style>\n",
       "<table border=\"1\" class=\"dataframe\">\n",
       "  <thead>\n",
       "    <tr style=\"text-align: right;\">\n",
       "      <th></th>\n",
       "      <th>Country name</th>\n",
       "      <th>year</th>\n",
       "      <th>Life Ladder</th>\n",
       "      <th>Log GDP per capita</th>\n",
       "      <th>Social support</th>\n",
       "      <th>Healthy life expectancy at birth</th>\n",
       "      <th>Freedom to make life choices</th>\n",
       "      <th>Generosity</th>\n",
       "      <th>Perceptions of corruption</th>\n",
       "      <th>Positive affect</th>\n",
       "      <th>Negative affect</th>\n",
       "    </tr>\n",
       "  </thead>\n",
       "  <tbody>\n",
       "    <tr>\n",
       "      <th>0</th>\n",
       "      <td>Afghanistan</td>\n",
       "      <td>2008</td>\n",
       "      <td>3.724</td>\n",
       "      <td>7.370</td>\n",
       "      <td>0.451</td>\n",
       "      <td>50.80</td>\n",
       "      <td>0.718</td>\n",
       "      <td>0.168</td>\n",
       "      <td>0.882</td>\n",
       "      <td>0.518</td>\n",
       "      <td>0.258</td>\n",
       "    </tr>\n",
       "    <tr>\n",
       "      <th>1</th>\n",
       "      <td>Afghanistan</td>\n",
       "      <td>2009</td>\n",
       "      <td>4.402</td>\n",
       "      <td>7.540</td>\n",
       "      <td>0.552</td>\n",
       "      <td>51.20</td>\n",
       "      <td>0.679</td>\n",
       "      <td>0.190</td>\n",
       "      <td>0.850</td>\n",
       "      <td>0.584</td>\n",
       "      <td>0.237</td>\n",
       "    </tr>\n",
       "    <tr>\n",
       "      <th>2</th>\n",
       "      <td>Afghanistan</td>\n",
       "      <td>2010</td>\n",
       "      <td>4.758</td>\n",
       "      <td>7.647</td>\n",
       "      <td>0.539</td>\n",
       "      <td>51.60</td>\n",
       "      <td>0.600</td>\n",
       "      <td>0.121</td>\n",
       "      <td>0.707</td>\n",
       "      <td>0.618</td>\n",
       "      <td>0.275</td>\n",
       "    </tr>\n",
       "    <tr>\n",
       "      <th>3</th>\n",
       "      <td>Afghanistan</td>\n",
       "      <td>2011</td>\n",
       "      <td>3.832</td>\n",
       "      <td>7.620</td>\n",
       "      <td>0.521</td>\n",
       "      <td>51.92</td>\n",
       "      <td>0.496</td>\n",
       "      <td>0.162</td>\n",
       "      <td>0.731</td>\n",
       "      <td>0.611</td>\n",
       "      <td>0.267</td>\n",
       "    </tr>\n",
       "    <tr>\n",
       "      <th>4</th>\n",
       "      <td>Afghanistan</td>\n",
       "      <td>2012</td>\n",
       "      <td>3.783</td>\n",
       "      <td>7.705</td>\n",
       "      <td>0.521</td>\n",
       "      <td>52.24</td>\n",
       "      <td>0.531</td>\n",
       "      <td>0.236</td>\n",
       "      <td>0.776</td>\n",
       "      <td>0.710</td>\n",
       "      <td>0.268</td>\n",
       "    </tr>\n",
       "    <tr>\n",
       "      <th>...</th>\n",
       "      <td>...</td>\n",
       "      <td>...</td>\n",
       "      <td>...</td>\n",
       "      <td>...</td>\n",
       "      <td>...</td>\n",
       "      <td>...</td>\n",
       "      <td>...</td>\n",
       "      <td>...</td>\n",
       "      <td>...</td>\n",
       "      <td>...</td>\n",
       "      <td>...</td>\n",
       "    </tr>\n",
       "    <tr>\n",
       "      <th>1944</th>\n",
       "      <td>Zimbabwe</td>\n",
       "      <td>2016</td>\n",
       "      <td>3.735</td>\n",
       "      <td>7.984</td>\n",
       "      <td>0.768</td>\n",
       "      <td>54.40</td>\n",
       "      <td>0.733</td>\n",
       "      <td>-0.095</td>\n",
       "      <td>0.724</td>\n",
       "      <td>0.738</td>\n",
       "      <td>0.209</td>\n",
       "    </tr>\n",
       "    <tr>\n",
       "      <th>1945</th>\n",
       "      <td>Zimbabwe</td>\n",
       "      <td>2017</td>\n",
       "      <td>3.638</td>\n",
       "      <td>8.016</td>\n",
       "      <td>0.754</td>\n",
       "      <td>55.00</td>\n",
       "      <td>0.753</td>\n",
       "      <td>-0.098</td>\n",
       "      <td>0.751</td>\n",
       "      <td>0.806</td>\n",
       "      <td>0.224</td>\n",
       "    </tr>\n",
       "    <tr>\n",
       "      <th>1946</th>\n",
       "      <td>Zimbabwe</td>\n",
       "      <td>2018</td>\n",
       "      <td>3.616</td>\n",
       "      <td>8.049</td>\n",
       "      <td>0.775</td>\n",
       "      <td>55.60</td>\n",
       "      <td>0.763</td>\n",
       "      <td>-0.068</td>\n",
       "      <td>0.844</td>\n",
       "      <td>0.710</td>\n",
       "      <td>0.212</td>\n",
       "    </tr>\n",
       "    <tr>\n",
       "      <th>1947</th>\n",
       "      <td>Zimbabwe</td>\n",
       "      <td>2019</td>\n",
       "      <td>2.694</td>\n",
       "      <td>7.950</td>\n",
       "      <td>0.759</td>\n",
       "      <td>56.20</td>\n",
       "      <td>0.632</td>\n",
       "      <td>-0.064</td>\n",
       "      <td>0.831</td>\n",
       "      <td>0.716</td>\n",
       "      <td>0.235</td>\n",
       "    </tr>\n",
       "    <tr>\n",
       "      <th>1948</th>\n",
       "      <td>Zimbabwe</td>\n",
       "      <td>2020</td>\n",
       "      <td>3.160</td>\n",
       "      <td>7.829</td>\n",
       "      <td>0.717</td>\n",
       "      <td>56.80</td>\n",
       "      <td>0.643</td>\n",
       "      <td>-0.009</td>\n",
       "      <td>0.789</td>\n",
       "      <td>0.703</td>\n",
       "      <td>0.346</td>\n",
       "    </tr>\n",
       "  </tbody>\n",
       "</table>\n",
       "<p>1949 rows × 11 columns</p>\n",
       "</div>"
      ],
      "text/plain": [
       "     Country name  year  Life Ladder  Log GDP per capita  Social support  \\\n",
       "0     Afghanistan  2008        3.724               7.370           0.451   \n",
       "1     Afghanistan  2009        4.402               7.540           0.552   \n",
       "2     Afghanistan  2010        4.758               7.647           0.539   \n",
       "3     Afghanistan  2011        3.832               7.620           0.521   \n",
       "4     Afghanistan  2012        3.783               7.705           0.521   \n",
       "...           ...   ...          ...                 ...             ...   \n",
       "1944     Zimbabwe  2016        3.735               7.984           0.768   \n",
       "1945     Zimbabwe  2017        3.638               8.016           0.754   \n",
       "1946     Zimbabwe  2018        3.616               8.049           0.775   \n",
       "1947     Zimbabwe  2019        2.694               7.950           0.759   \n",
       "1948     Zimbabwe  2020        3.160               7.829           0.717   \n",
       "\n",
       "      Healthy life expectancy at birth  Freedom to make life choices  \\\n",
       "0                                50.80                         0.718   \n",
       "1                                51.20                         0.679   \n",
       "2                                51.60                         0.600   \n",
       "3                                51.92                         0.496   \n",
       "4                                52.24                         0.531   \n",
       "...                                ...                           ...   \n",
       "1944                             54.40                         0.733   \n",
       "1945                             55.00                         0.753   \n",
       "1946                             55.60                         0.763   \n",
       "1947                             56.20                         0.632   \n",
       "1948                             56.80                         0.643   \n",
       "\n",
       "      Generosity  Perceptions of corruption  Positive affect  Negative affect  \n",
       "0          0.168                      0.882            0.518            0.258  \n",
       "1          0.190                      0.850            0.584            0.237  \n",
       "2          0.121                      0.707            0.618            0.275  \n",
       "3          0.162                      0.731            0.611            0.267  \n",
       "4          0.236                      0.776            0.710            0.268  \n",
       "...          ...                        ...              ...              ...  \n",
       "1944      -0.095                      0.724            0.738            0.209  \n",
       "1945      -0.098                      0.751            0.806            0.224  \n",
       "1946      -0.068                      0.844            0.710            0.212  \n",
       "1947      -0.064                      0.831            0.716            0.235  \n",
       "1948      -0.009                      0.789            0.703            0.346  \n",
       "\n",
       "[1949 rows x 11 columns]"
      ]
     },
     "execution_count": 12,
     "metadata": {},
     "output_type": "execute_result"
    }
   ],
   "source": [
    "file2"
   ]
  },
  {
   "cell_type": "code",
   "execution_count": 13,
   "metadata": {},
   "outputs": [
    {
     "data": {
      "text/plain": [
       "Country name                        Algeria\n",
       "year                                   2010\n",
       "Life Ladder                           5.464\n",
       "Log GDP per capita                    9.287\n",
       "Social support                         0.81\n",
       "Healthy life expectancy at birth       64.5\n",
       "Freedom to make life choices          0.593\n",
       "Generosity                           -0.205\n",
       "Perceptions of corruption             0.618\n",
       "Positive affect                        0.55\n",
       "Negative affect                       0.255\n",
       "Name: 25, dtype: object"
      ]
     },
     "execution_count": 13,
     "metadata": {},
     "output_type": "execute_result"
    }
   ],
   "source": [
    "file2.loc[25, :]"
   ]
  },
  {
   "cell_type": "code",
   "execution_count": 14,
   "metadata": {},
   "outputs": [
    {
     "data": {
      "text/plain": [
       "Country name                        Hong Kong S.A.R. of China\n",
       "year                                                     2020\n",
       "Life Ladder                                             5.295\n",
       "Log GDP per capita                                       11.0\n",
       "Social support                                          0.813\n",
       "Healthy life expectancy at birth                          NaN\n",
       "Freedom to make life choices                            0.705\n",
       "Generosity                                              0.067\n",
       "Perceptions of corruption                                0.38\n",
       "Positive affect                                         0.609\n",
       "Negative affect                                          0.21\n",
       "Name: 709, dtype: object"
      ]
     },
     "execution_count": 14,
     "metadata": {},
     "output_type": "execute_result"
    }
   ],
   "source": [
    "file2.loc[709, :]"
   ]
  },
  {
   "cell_type": "markdown",
   "metadata": {},
   "source": [
    " Certain Countries don't have values of for any of those columns. So Let's fill the those values with -1 (To Indicate the absence of the data)\n",
    " \n",
    " Healthy life expectancy at birth \n",
    " \n",
    " Freedom to make life choices                           \n",
    " \n",
    " Generosity                                             \n",
    " \n",
    " Positive affect\n",
    " \n",
    " Perceptions of corruption                              \n",
    "                              "
   ]
  },
  {
   "cell_type": "code",
   "execution_count": 15,
   "metadata": {},
   "outputs": [],
   "source": [
    "file2.fillna(-1, inplace=True)"
   ]
  },
  {
   "cell_type": "code",
   "execution_count": 16,
   "metadata": {},
   "outputs": [
    {
     "data": {
      "text/plain": [
       "Country name                        Hong Kong S.A.R. of China\n",
       "year                                                     2020\n",
       "Life Ladder                                             5.295\n",
       "Log GDP per capita                                       11.0\n",
       "Social support                                          0.813\n",
       "Healthy life expectancy at birth                         -1.0\n",
       "Freedom to make life choices                            0.705\n",
       "Generosity                                              0.067\n",
       "Perceptions of corruption                                0.38\n",
       "Positive affect                                         0.609\n",
       "Negative affect                                          0.21\n",
       "Name: 709, dtype: object"
      ]
     },
     "execution_count": 16,
     "metadata": {},
     "output_type": "execute_result"
    }
   ],
   "source": [
    "file2.loc[709, :]"
   ]
  },
  {
   "cell_type": "markdown",
   "metadata": {},
   "source": [
    "### We can also drop the values. Based on the Business case.\n",
    "\n",
    "But in this case i preferred ffill ad bfill through groupby "
   ]
  },
  {
   "cell_type": "code",
   "execution_count": 17,
   "metadata": {},
   "outputs": [
    {
     "data": {
      "text/html": [
       "<div>\n",
       "<style scoped>\n",
       "    .dataframe tbody tr th:only-of-type {\n",
       "        vertical-align: middle;\n",
       "    }\n",
       "\n",
       "    .dataframe tbody tr th {\n",
       "        vertical-align: top;\n",
       "    }\n",
       "\n",
       "    .dataframe thead th {\n",
       "        text-align: right;\n",
       "    }\n",
       "</style>\n",
       "<table border=\"1\" class=\"dataframe\">\n",
       "  <thead>\n",
       "    <tr style=\"text-align: right;\">\n",
       "      <th></th>\n",
       "      <th>Country name</th>\n",
       "      <th>year</th>\n",
       "      <th>Life Ladder</th>\n",
       "      <th>Log GDP per capita</th>\n",
       "      <th>Social support</th>\n",
       "      <th>Healthy life expectancy at birth</th>\n",
       "      <th>Freedom to make life choices</th>\n",
       "      <th>Generosity</th>\n",
       "      <th>Perceptions of corruption</th>\n",
       "      <th>Positive affect</th>\n",
       "      <th>Negative affect</th>\n",
       "    </tr>\n",
       "  </thead>\n",
       "  <tbody>\n",
       "    <tr>\n",
       "      <th>0</th>\n",
       "      <td>Afghanistan</td>\n",
       "      <td>2008</td>\n",
       "      <td>3.724</td>\n",
       "      <td>7.370</td>\n",
       "      <td>0.451</td>\n",
       "      <td>50.80</td>\n",
       "      <td>0.718</td>\n",
       "      <td>0.168</td>\n",
       "      <td>0.882</td>\n",
       "      <td>0.518</td>\n",
       "      <td>0.258</td>\n",
       "    </tr>\n",
       "    <tr>\n",
       "      <th>1</th>\n",
       "      <td>Afghanistan</td>\n",
       "      <td>2009</td>\n",
       "      <td>4.402</td>\n",
       "      <td>7.540</td>\n",
       "      <td>0.552</td>\n",
       "      <td>51.20</td>\n",
       "      <td>0.679</td>\n",
       "      <td>0.190</td>\n",
       "      <td>0.850</td>\n",
       "      <td>0.584</td>\n",
       "      <td>0.237</td>\n",
       "    </tr>\n",
       "    <tr>\n",
       "      <th>2</th>\n",
       "      <td>Afghanistan</td>\n",
       "      <td>2010</td>\n",
       "      <td>4.758</td>\n",
       "      <td>7.647</td>\n",
       "      <td>0.539</td>\n",
       "      <td>51.60</td>\n",
       "      <td>0.600</td>\n",
       "      <td>0.121</td>\n",
       "      <td>0.707</td>\n",
       "      <td>0.618</td>\n",
       "      <td>0.275</td>\n",
       "    </tr>\n",
       "    <tr>\n",
       "      <th>3</th>\n",
       "      <td>Afghanistan</td>\n",
       "      <td>2011</td>\n",
       "      <td>3.832</td>\n",
       "      <td>7.620</td>\n",
       "      <td>0.521</td>\n",
       "      <td>51.92</td>\n",
       "      <td>0.496</td>\n",
       "      <td>0.162</td>\n",
       "      <td>0.731</td>\n",
       "      <td>0.611</td>\n",
       "      <td>0.267</td>\n",
       "    </tr>\n",
       "    <tr>\n",
       "      <th>4</th>\n",
       "      <td>Afghanistan</td>\n",
       "      <td>2012</td>\n",
       "      <td>3.783</td>\n",
       "      <td>7.705</td>\n",
       "      <td>0.521</td>\n",
       "      <td>52.24</td>\n",
       "      <td>0.531</td>\n",
       "      <td>0.236</td>\n",
       "      <td>0.776</td>\n",
       "      <td>0.710</td>\n",
       "      <td>0.268</td>\n",
       "    </tr>\n",
       "    <tr>\n",
       "      <th>...</th>\n",
       "      <td>...</td>\n",
       "      <td>...</td>\n",
       "      <td>...</td>\n",
       "      <td>...</td>\n",
       "      <td>...</td>\n",
       "      <td>...</td>\n",
       "      <td>...</td>\n",
       "      <td>...</td>\n",
       "      <td>...</td>\n",
       "      <td>...</td>\n",
       "      <td>...</td>\n",
       "    </tr>\n",
       "    <tr>\n",
       "      <th>1944</th>\n",
       "      <td>Zimbabwe</td>\n",
       "      <td>2016</td>\n",
       "      <td>3.735</td>\n",
       "      <td>7.984</td>\n",
       "      <td>0.768</td>\n",
       "      <td>54.40</td>\n",
       "      <td>0.733</td>\n",
       "      <td>-0.095</td>\n",
       "      <td>0.724</td>\n",
       "      <td>0.738</td>\n",
       "      <td>0.209</td>\n",
       "    </tr>\n",
       "    <tr>\n",
       "      <th>1945</th>\n",
       "      <td>Zimbabwe</td>\n",
       "      <td>2017</td>\n",
       "      <td>3.638</td>\n",
       "      <td>8.016</td>\n",
       "      <td>0.754</td>\n",
       "      <td>55.00</td>\n",
       "      <td>0.753</td>\n",
       "      <td>-0.098</td>\n",
       "      <td>0.751</td>\n",
       "      <td>0.806</td>\n",
       "      <td>0.224</td>\n",
       "    </tr>\n",
       "    <tr>\n",
       "      <th>1946</th>\n",
       "      <td>Zimbabwe</td>\n",
       "      <td>2018</td>\n",
       "      <td>3.616</td>\n",
       "      <td>8.049</td>\n",
       "      <td>0.775</td>\n",
       "      <td>55.60</td>\n",
       "      <td>0.763</td>\n",
       "      <td>-0.068</td>\n",
       "      <td>0.844</td>\n",
       "      <td>0.710</td>\n",
       "      <td>0.212</td>\n",
       "    </tr>\n",
       "    <tr>\n",
       "      <th>1947</th>\n",
       "      <td>Zimbabwe</td>\n",
       "      <td>2019</td>\n",
       "      <td>2.694</td>\n",
       "      <td>7.950</td>\n",
       "      <td>0.759</td>\n",
       "      <td>56.20</td>\n",
       "      <td>0.632</td>\n",
       "      <td>-0.064</td>\n",
       "      <td>0.831</td>\n",
       "      <td>0.716</td>\n",
       "      <td>0.235</td>\n",
       "    </tr>\n",
       "    <tr>\n",
       "      <th>1948</th>\n",
       "      <td>Zimbabwe</td>\n",
       "      <td>2020</td>\n",
       "      <td>3.160</td>\n",
       "      <td>7.829</td>\n",
       "      <td>0.717</td>\n",
       "      <td>56.80</td>\n",
       "      <td>0.643</td>\n",
       "      <td>-0.009</td>\n",
       "      <td>0.789</td>\n",
       "      <td>0.703</td>\n",
       "      <td>0.346</td>\n",
       "    </tr>\n",
       "  </tbody>\n",
       "</table>\n",
       "<p>1949 rows × 11 columns</p>\n",
       "</div>"
      ],
      "text/plain": [
       "     Country name  year  Life Ladder  Log GDP per capita  Social support  \\\n",
       "0     Afghanistan  2008        3.724               7.370           0.451   \n",
       "1     Afghanistan  2009        4.402               7.540           0.552   \n",
       "2     Afghanistan  2010        4.758               7.647           0.539   \n",
       "3     Afghanistan  2011        3.832               7.620           0.521   \n",
       "4     Afghanistan  2012        3.783               7.705           0.521   \n",
       "...           ...   ...          ...                 ...             ...   \n",
       "1944     Zimbabwe  2016        3.735               7.984           0.768   \n",
       "1945     Zimbabwe  2017        3.638               8.016           0.754   \n",
       "1946     Zimbabwe  2018        3.616               8.049           0.775   \n",
       "1947     Zimbabwe  2019        2.694               7.950           0.759   \n",
       "1948     Zimbabwe  2020        3.160               7.829           0.717   \n",
       "\n",
       "      Healthy life expectancy at birth  Freedom to make life choices  \\\n",
       "0                                50.80                         0.718   \n",
       "1                                51.20                         0.679   \n",
       "2                                51.60                         0.600   \n",
       "3                                51.92                         0.496   \n",
       "4                                52.24                         0.531   \n",
       "...                                ...                           ...   \n",
       "1944                             54.40                         0.733   \n",
       "1945                             55.00                         0.753   \n",
       "1946                             55.60                         0.763   \n",
       "1947                             56.20                         0.632   \n",
       "1948                             56.80                         0.643   \n",
       "\n",
       "      Generosity  Perceptions of corruption  Positive affect  Negative affect  \n",
       "0          0.168                      0.882            0.518            0.258  \n",
       "1          0.190                      0.850            0.584            0.237  \n",
       "2          0.121                      0.707            0.618            0.275  \n",
       "3          0.162                      0.731            0.611            0.267  \n",
       "4          0.236                      0.776            0.710            0.268  \n",
       "...          ...                        ...              ...              ...  \n",
       "1944      -0.095                      0.724            0.738            0.209  \n",
       "1945      -0.098                      0.751            0.806            0.224  \n",
       "1946      -0.068                      0.844            0.710            0.212  \n",
       "1947      -0.064                      0.831            0.716            0.235  \n",
       "1948      -0.009                      0.789            0.703            0.346  \n",
       "\n",
       "[1949 rows x 11 columns]"
      ]
     },
     "execution_count": 17,
     "metadata": {},
     "output_type": "execute_result"
    }
   ],
   "source": [
    "file2"
   ]
  },
  {
   "cell_type": "code",
   "execution_count": 18,
   "metadata": {},
   "outputs": [
    {
     "name": "stdout",
     "output_type": "stream",
     "text": [
      "166\n",
      "--------------------------------------------------\n",
      "['Afghanistan' 'Albania' 'Algeria' 'Angola' 'Argentina' 'Armenia'\n",
      " 'Australia' 'Austria' 'Azerbaijan' 'Bahrain' 'Bangladesh' 'Belarus'\n",
      " 'Belgium' 'Belize' 'Benin' 'Bhutan' 'Bolivia' 'Bosnia and Herzegovina'\n",
      " 'Botswana' 'Brazil' 'Bulgaria' 'Burkina Faso' 'Burundi' 'Cambodia'\n",
      " 'Cameroon' 'Canada' 'Central African Republic' 'Chad' 'Chile' 'China'\n",
      " 'Colombia' 'Comoros' 'Congo (Brazzaville)' 'Congo (Kinshasa)'\n",
      " 'Costa Rica' 'Croatia' 'Cuba' 'Cyprus' 'Czech Republic' 'Denmark'\n",
      " 'Djibouti' 'Dominican Republic' 'Ecuador' 'Egypt' 'El Salvador' 'Estonia'\n",
      " 'Ethiopia' 'Finland' 'France' 'Gabon' 'Gambia' 'Georgia' 'Germany'\n",
      " 'Ghana' 'Greece' 'Guatemala' 'Guinea' 'Guyana' 'Haiti' 'Honduras'\n",
      " 'Hong Kong S.A.R. of China' 'Hungary' 'Iceland' 'India' 'Indonesia'\n",
      " 'Iran' 'Iraq' 'Ireland' 'Israel' 'Italy' 'Ivory Coast' 'Jamaica' 'Japan'\n",
      " 'Jordan' 'Kazakhstan' 'Kenya' 'Kosovo' 'Kuwait' 'Kyrgyzstan' 'Laos'\n",
      " 'Latvia' 'Lebanon' 'Lesotho' 'Liberia' 'Libya' 'Lithuania' 'Luxembourg'\n",
      " 'Madagascar' 'Malawi' 'Malaysia' 'Maldives' 'Mali' 'Malta' 'Mauritania'\n",
      " 'Mauritius' 'Mexico' 'Moldova' 'Mongolia' 'Montenegro' 'Morocco'\n",
      " 'Mozambique' 'Myanmar' 'Namibia' 'Nepal' 'Netherlands' 'New Zealand'\n",
      " 'Nicaragua' 'Niger' 'Nigeria' 'North Cyprus' 'North Macedonia' 'Norway'\n",
      " 'Oman' 'Pakistan' 'Palestinian Territories' 'Panama' 'Paraguay' 'Peru'\n",
      " 'Philippines' 'Poland' 'Portugal' 'Qatar' 'Romania' 'Russia' 'Rwanda'\n",
      " 'Saudi Arabia' 'Senegal' 'Serbia' 'Sierra Leone' 'Singapore' 'Slovakia'\n",
      " 'Slovenia' 'Somalia' 'Somaliland region' 'South Africa' 'South Korea'\n",
      " 'South Sudan' 'Spain' 'Sri Lanka' 'Sudan' 'Suriname' 'Swaziland' 'Sweden'\n",
      " 'Switzerland' 'Syria' 'Taiwan Province of China' 'Tajikistan' 'Tanzania'\n",
      " 'Thailand' 'Togo' 'Trinidad and Tobago' 'Tunisia' 'Turkey' 'Turkmenistan'\n",
      " 'Uganda' 'Ukraine' 'United Arab Emirates' 'United Kingdom'\n",
      " 'United States' 'Uruguay' 'Uzbekistan' 'Venezuela' 'Vietnam' 'Yemen'\n",
      " 'Zambia' 'Zimbabwe']\n"
     ]
    }
   ],
   "source": [
    "# Analysis on countries.\n",
    "\n",
    "print(file2['Country name'].nunique())\n",
    "print(\"-\"*50)\n",
    "print(file2['Country name'].unique())"
   ]
  },
  {
   "cell_type": "code",
   "execution_count": 19,
   "metadata": {},
   "outputs": [],
   "source": [
    "values = {'Max':[], 'Min':[], 'Average':[]}\n",
    "for i in file2['Country name'].unique():\n",
    "    country_data = file2[file2['Country name'] == i]\n",
    "    max_value = country_data['Life Ladder'].max()\n",
    "    min_value = country_data['Life Ladder'].min()\n",
    "    max_year = country_data.loc[country_data['Life Ladder'].idxmax(), 'year']\n",
    "    min_year = country_data.loc[country_data['Life Ladder'].idxmin(), 'year']\n",
    "    average_Value = country_data['Life Ladder'].mean()\n",
    "    values['Max'].append(f\"{max_value} ({max_year})\")\n",
    "    values['Min'].append(f\"{min_value} ({min_year})\")\n",
    "    values['Average'].append(average_Value)\n",
    "\n",
    "lifeLadder = pd.DataFrame(values, index = file2['Country name'].unique())  "
   ]
  },
  {
   "cell_type": "code",
   "execution_count": 20,
   "metadata": {},
   "outputs": [
    {
     "data": {
      "text/html": [
       "<div>\n",
       "<style scoped>\n",
       "    .dataframe tbody tr th:only-of-type {\n",
       "        vertical-align: middle;\n",
       "    }\n",
       "\n",
       "    .dataframe tbody tr th {\n",
       "        vertical-align: top;\n",
       "    }\n",
       "\n",
       "    .dataframe thead th {\n",
       "        text-align: right;\n",
       "    }\n",
       "</style>\n",
       "<table border=\"1\" class=\"dataframe\">\n",
       "  <thead>\n",
       "    <tr style=\"text-align: right;\">\n",
       "      <th></th>\n",
       "      <th>Max</th>\n",
       "      <th>Min</th>\n",
       "      <th>Average</th>\n",
       "    </tr>\n",
       "  </thead>\n",
       "  <tbody>\n",
       "    <tr>\n",
       "      <th>Afghanistan</th>\n",
       "      <td>4.758 (2010)</td>\n",
       "      <td>2.375 (2019)</td>\n",
       "      <td>3.594667</td>\n",
       "    </tr>\n",
       "    <tr>\n",
       "      <th>Albania</th>\n",
       "      <td>5.867 (2011)</td>\n",
       "      <td>4.511 (2016)</td>\n",
       "      <td>5.019385</td>\n",
       "    </tr>\n",
       "    <tr>\n",
       "      <th>Algeria</th>\n",
       "      <td>6.355 (2014)</td>\n",
       "      <td>4.745 (2019)</td>\n",
       "      <td>5.389875</td>\n",
       "    </tr>\n",
       "    <tr>\n",
       "      <th>Angola</th>\n",
       "      <td>5.589 (2011)</td>\n",
       "      <td>3.795 (2014)</td>\n",
       "      <td>4.420250</td>\n",
       "    </tr>\n",
       "    <tr>\n",
       "      <th>Argentina</th>\n",
       "      <td>6.776 (2011)</td>\n",
       "      <td>5.793 (2018)</td>\n",
       "      <td>6.310133</td>\n",
       "    </tr>\n",
       "    <tr>\n",
       "      <th>...</th>\n",
       "      <td>...</td>\n",
       "      <td>...</td>\n",
       "      <td>...</td>\n",
       "    </tr>\n",
       "    <tr>\n",
       "      <th>Venezuela</th>\n",
       "      <td>7.478 (2010)</td>\n",
       "      <td>4.041 (2016)</td>\n",
       "      <td>6.019867</td>\n",
       "    </tr>\n",
       "    <tr>\n",
       "      <th>Vietnam</th>\n",
       "      <td>5.767 (2011)</td>\n",
       "      <td>5.023 (2013)</td>\n",
       "      <td>5.305857</td>\n",
       "    </tr>\n",
       "    <tr>\n",
       "      <th>Yemen</th>\n",
       "      <td>4.809 (2009)</td>\n",
       "      <td>2.983 (2015)</td>\n",
       "      <td>3.912250</td>\n",
       "    </tr>\n",
       "    <tr>\n",
       "      <th>Zambia</th>\n",
       "      <td>5.26 (2009)</td>\n",
       "      <td>3.307 (2019)</td>\n",
       "      <td>4.551714</td>\n",
       "    </tr>\n",
       "    <tr>\n",
       "      <th>Zimbabwe</th>\n",
       "      <td>4.955 (2012)</td>\n",
       "      <td>2.694 (2019)</td>\n",
       "      <td>3.882600</td>\n",
       "    </tr>\n",
       "  </tbody>\n",
       "</table>\n",
       "<p>166 rows × 3 columns</p>\n",
       "</div>"
      ],
      "text/plain": [
       "                      Max           Min   Average\n",
       "Afghanistan  4.758 (2010)  2.375 (2019)  3.594667\n",
       "Albania      5.867 (2011)  4.511 (2016)  5.019385\n",
       "Algeria      6.355 (2014)  4.745 (2019)  5.389875\n",
       "Angola       5.589 (2011)  3.795 (2014)  4.420250\n",
       "Argentina    6.776 (2011)  5.793 (2018)  6.310133\n",
       "...                   ...           ...       ...\n",
       "Venezuela    7.478 (2010)  4.041 (2016)  6.019867\n",
       "Vietnam      5.767 (2011)  5.023 (2013)  5.305857\n",
       "Yemen        4.809 (2009)  2.983 (2015)  3.912250\n",
       "Zambia        5.26 (2009)  3.307 (2019)  4.551714\n",
       "Zimbabwe     4.955 (2012)  2.694 (2019)  3.882600\n",
       "\n",
       "[166 rows x 3 columns]"
      ]
     },
     "execution_count": 20,
     "metadata": {},
     "output_type": "execute_result"
    }
   ],
   "source": [
    "lifeLadder"
   ]
  },
  {
   "cell_type": "markdown",
   "metadata": {},
   "source": [
    "Country with max Life Ladder across all the years."
   ]
  },
  {
   "cell_type": "code",
   "execution_count": 21,
   "metadata": {},
   "outputs": [
    {
     "name": "stdout",
     "output_type": "stream",
     "text": [
      "Denmark\n",
      "8.019 (2005)\n"
     ]
    }
   ],
   "source": [
    "print(lifeLadder['Max'].idxmax())\n",
    "print(lifeLadder['Max'].max())"
   ]
  },
  {
   "cell_type": "code",
   "execution_count": 22,
   "metadata": {},
   "outputs": [
    {
     "data": {
      "text/html": [
       "<div>\n",
       "<style scoped>\n",
       "    .dataframe tbody tr th:only-of-type {\n",
       "        vertical-align: middle;\n",
       "    }\n",
       "\n",
       "    .dataframe tbody tr th {\n",
       "        vertical-align: top;\n",
       "    }\n",
       "\n",
       "    .dataframe thead th {\n",
       "        text-align: right;\n",
       "    }\n",
       "</style>\n",
       "<table border=\"1\" class=\"dataframe\">\n",
       "  <thead>\n",
       "    <tr style=\"text-align: right;\">\n",
       "      <th></th>\n",
       "      <th>Country name</th>\n",
       "      <th>year</th>\n",
       "      <th>Life Ladder</th>\n",
       "      <th>Log GDP per capita</th>\n",
       "      <th>Social support</th>\n",
       "      <th>Healthy life expectancy at birth</th>\n",
       "      <th>Freedom to make life choices</th>\n",
       "      <th>Generosity</th>\n",
       "      <th>Perceptions of corruption</th>\n",
       "      <th>Positive affect</th>\n",
       "      <th>Negative affect</th>\n",
       "    </tr>\n",
       "  </thead>\n",
       "  <tbody>\n",
       "    <tr>\n",
       "      <th>24</th>\n",
       "      <td>Albania</td>\n",
       "      <td>2020</td>\n",
       "      <td>5.365</td>\n",
       "      <td>9.497</td>\n",
       "      <td>0.710</td>\n",
       "      <td>69.3</td>\n",
       "      <td>0.754</td>\n",
       "      <td>0.007</td>\n",
       "      <td>0.891</td>\n",
       "      <td>0.679</td>\n",
       "      <td>0.265</td>\n",
       "    </tr>\n",
       "    <tr>\n",
       "      <th>51</th>\n",
       "      <td>Argentina</td>\n",
       "      <td>2020</td>\n",
       "      <td>5.901</td>\n",
       "      <td>9.850</td>\n",
       "      <td>0.897</td>\n",
       "      <td>69.2</td>\n",
       "      <td>0.823</td>\n",
       "      <td>-0.122</td>\n",
       "      <td>0.816</td>\n",
       "      <td>0.764</td>\n",
       "      <td>0.342</td>\n",
       "    </tr>\n",
       "    <tr>\n",
       "      <th>79</th>\n",
       "      <td>Australia</td>\n",
       "      <td>2020</td>\n",
       "      <td>7.137</td>\n",
       "      <td>10.760</td>\n",
       "      <td>0.937</td>\n",
       "      <td>74.2</td>\n",
       "      <td>0.905</td>\n",
       "      <td>0.210</td>\n",
       "      <td>0.491</td>\n",
       "      <td>0.769</td>\n",
       "      <td>0.205</td>\n",
       "    </tr>\n",
       "    <tr>\n",
       "      <th>92</th>\n",
       "      <td>Austria</td>\n",
       "      <td>2020</td>\n",
       "      <td>7.213</td>\n",
       "      <td>10.851</td>\n",
       "      <td>0.925</td>\n",
       "      <td>73.6</td>\n",
       "      <td>0.912</td>\n",
       "      <td>0.011</td>\n",
       "      <td>0.464</td>\n",
       "      <td>0.769</td>\n",
       "      <td>0.206</td>\n",
       "    </tr>\n",
       "    <tr>\n",
       "      <th>117</th>\n",
       "      <td>Bahrain</td>\n",
       "      <td>2020</td>\n",
       "      <td>6.173</td>\n",
       "      <td>10.620</td>\n",
       "      <td>0.848</td>\n",
       "      <td>69.7</td>\n",
       "      <td>0.945</td>\n",
       "      <td>0.132</td>\n",
       "      <td>0.525</td>\n",
       "      <td>0.790</td>\n",
       "      <td>0.297</td>\n",
       "    </tr>\n",
       "    <tr>\n",
       "      <th>...</th>\n",
       "      <td>...</td>\n",
       "      <td>...</td>\n",
       "      <td>...</td>\n",
       "      <td>...</td>\n",
       "      <td>...</td>\n",
       "      <td>...</td>\n",
       "      <td>...</td>\n",
       "      <td>...</td>\n",
       "      <td>...</td>\n",
       "      <td>...</td>\n",
       "      <td>...</td>\n",
       "    </tr>\n",
       "    <tr>\n",
       "      <th>1850</th>\n",
       "      <td>United States</td>\n",
       "      <td>2020</td>\n",
       "      <td>7.028</td>\n",
       "      <td>11.001</td>\n",
       "      <td>0.937</td>\n",
       "      <td>68.1</td>\n",
       "      <td>0.850</td>\n",
       "      <td>0.034</td>\n",
       "      <td>0.678</td>\n",
       "      <td>0.787</td>\n",
       "      <td>0.295</td>\n",
       "    </tr>\n",
       "    <tr>\n",
       "      <th>1865</th>\n",
       "      <td>Uruguay</td>\n",
       "      <td>2020</td>\n",
       "      <td>6.310</td>\n",
       "      <td>9.937</td>\n",
       "      <td>0.921</td>\n",
       "      <td>69.2</td>\n",
       "      <td>0.908</td>\n",
       "      <td>-0.084</td>\n",
       "      <td>0.491</td>\n",
       "      <td>0.807</td>\n",
       "      <td>0.265</td>\n",
       "    </tr>\n",
       "    <tr>\n",
       "      <th>1893</th>\n",
       "      <td>Venezuela</td>\n",
       "      <td>2020</td>\n",
       "      <td>4.574</td>\n",
       "      <td>9.073</td>\n",
       "      <td>0.805</td>\n",
       "      <td>66.9</td>\n",
       "      <td>0.612</td>\n",
       "      <td>-0.169</td>\n",
       "      <td>0.811</td>\n",
       "      <td>0.722</td>\n",
       "      <td>0.396</td>\n",
       "    </tr>\n",
       "    <tr>\n",
       "      <th>1933</th>\n",
       "      <td>Zambia</td>\n",
       "      <td>2020</td>\n",
       "      <td>4.838</td>\n",
       "      <td>8.117</td>\n",
       "      <td>0.767</td>\n",
       "      <td>56.3</td>\n",
       "      <td>0.750</td>\n",
       "      <td>0.056</td>\n",
       "      <td>0.810</td>\n",
       "      <td>0.691</td>\n",
       "      <td>0.345</td>\n",
       "    </tr>\n",
       "    <tr>\n",
       "      <th>1948</th>\n",
       "      <td>Zimbabwe</td>\n",
       "      <td>2020</td>\n",
       "      <td>3.160</td>\n",
       "      <td>7.829</td>\n",
       "      <td>0.717</td>\n",
       "      <td>56.8</td>\n",
       "      <td>0.643</td>\n",
       "      <td>-0.009</td>\n",
       "      <td>0.789</td>\n",
       "      <td>0.703</td>\n",
       "      <td>0.346</td>\n",
       "    </tr>\n",
       "  </tbody>\n",
       "</table>\n",
       "<p>95 rows × 11 columns</p>\n",
       "</div>"
      ],
      "text/plain": [
       "       Country name  year  Life Ladder  Log GDP per capita  Social support  \\\n",
       "24          Albania  2020        5.365               9.497           0.710   \n",
       "51        Argentina  2020        5.901               9.850           0.897   \n",
       "79        Australia  2020        7.137              10.760           0.937   \n",
       "92          Austria  2020        7.213              10.851           0.925   \n",
       "117         Bahrain  2020        6.173              10.620           0.848   \n",
       "...             ...   ...          ...                 ...             ...   \n",
       "1850  United States  2020        7.028              11.001           0.937   \n",
       "1865        Uruguay  2020        6.310               9.937           0.921   \n",
       "1893      Venezuela  2020        4.574               9.073           0.805   \n",
       "1933         Zambia  2020        4.838               8.117           0.767   \n",
       "1948       Zimbabwe  2020        3.160               7.829           0.717   \n",
       "\n",
       "      Healthy life expectancy at birth  Freedom to make life choices  \\\n",
       "24                                69.3                         0.754   \n",
       "51                                69.2                         0.823   \n",
       "79                                74.2                         0.905   \n",
       "92                                73.6                         0.912   \n",
       "117                               69.7                         0.945   \n",
       "...                                ...                           ...   \n",
       "1850                              68.1                         0.850   \n",
       "1865                              69.2                         0.908   \n",
       "1893                              66.9                         0.612   \n",
       "1933                              56.3                         0.750   \n",
       "1948                              56.8                         0.643   \n",
       "\n",
       "      Generosity  Perceptions of corruption  Positive affect  Negative affect  \n",
       "24         0.007                      0.891            0.679            0.265  \n",
       "51        -0.122                      0.816            0.764            0.342  \n",
       "79         0.210                      0.491            0.769            0.205  \n",
       "92         0.011                      0.464            0.769            0.206  \n",
       "117        0.132                      0.525            0.790            0.297  \n",
       "...          ...                        ...              ...              ...  \n",
       "1850       0.034                      0.678            0.787            0.295  \n",
       "1865      -0.084                      0.491            0.807            0.265  \n",
       "1893      -0.169                      0.811            0.722            0.396  \n",
       "1933       0.056                      0.810            0.691            0.345  \n",
       "1948      -0.009                      0.789            0.703            0.346  \n",
       "\n",
       "[95 rows x 11 columns]"
      ]
     },
     "execution_count": 22,
     "metadata": {},
     "output_type": "execute_result"
    }
   ],
   "source": [
    "file2[file2['year'] == file2['year'].max()]"
   ]
  },
  {
   "cell_type": "code",
   "execution_count": 23,
   "metadata": {},
   "outputs": [
    {
     "name": "stdout",
     "output_type": "stream",
     "text": [
      "Finland\n",
      "7.889\n"
     ]
    }
   ],
   "source": [
    "print(file2.loc[file2[file2['year'] == file2['year'].max()]['Life Ladder'].idxmax(), 'Country name'])\n",
    "print(file2[file2['year'] == file2['year'].max()]['Life Ladder'].max())"
   ]
  },
  {
   "cell_type": "markdown",
   "metadata": {},
   "source": [
    "we can observe that the max of the life ladder is achieved by denmark in 2005.\n",
    "\n",
    "The current highest is from finland. Which is less than the denmark on year 2005."
   ]
  },
  {
   "cell_type": "code",
   "execution_count": 24,
   "metadata": {},
   "outputs": [
    {
     "data": {
      "text/plain": [
       "6.446259259259258"
      ]
     },
     "execution_count": 24,
     "metadata": {},
     "output_type": "execute_result"
    }
   ],
   "source": [
    "file2[file2['year'] ==  2005]['Life Ladder'].mean()"
   ]
  },
  {
   "cell_type": "code",
   "execution_count": 25,
   "metadata": {},
   "outputs": [
    {
     "data": {
      "text/plain": [
       "5.8405999999999985"
      ]
     },
     "execution_count": 25,
     "metadata": {},
     "output_type": "execute_result"
    }
   ],
   "source": [
    "file2[file2['year'] ==  2020]['Life Ladder'].mean()"
   ]
  },
  {
   "cell_type": "code",
   "execution_count": 26,
   "metadata": {},
   "outputs": [
    {
     "data": {
      "text/plain": [
       "-10.369812335363827"
      ]
     },
     "execution_count": 26,
     "metadata": {},
     "output_type": "execute_result"
    }
   ],
   "source": [
    "((file2[file2['year'] ==  2020]['Life Ladder'].mean() - file2[file2['year'] ==  2005]['Life Ladder'].mean())/file2[file2['year'] ==  2020]['Life Ladder'].mean())*100"
   ]
  },
  {
   "cell_type": "markdown",
   "metadata": {},
   "source": [
    "We can observe that the global life ladder has decreased from the year 2005 to 2020 by 10%. (Probably Dur to covid-19 Pandemic)"
   ]
  },
  {
   "cell_type": "code",
   "execution_count": 27,
   "metadata": {},
   "outputs": [
    {
     "data": {
      "text/plain": [
       "-24.040498238810077"
      ]
     },
     "execution_count": 27,
     "metadata": {},
     "output_type": "execute_result"
    }
   ],
   "source": [
    "((file2[file2['year'] ==  2006]['Life Ladder'].mean() - file2[file2['year'] ==  2005]['Life Ladder'].mean())/file2[file2['year'] ==  2006]['Life Ladder'].mean())*100"
   ]
  },
  {
   "cell_type": "markdown",
   "metadata": {},
   "source": [
    "From the above Observation we can see that as the years passes the life ladder is decreasing globally."
   ]
  },
  {
   "cell_type": "code",
   "execution_count": 28,
   "metadata": {},
   "outputs": [
    {
     "name": "stdout",
     "output_type": "stream",
     "text": [
      "2006 : -24.040498238810077\n",
      "2007 : 4.085721995053322\n",
      "2008 : 0.004329255543072162\n",
      "2009 : 0.7174783318434365\n",
      "2010 : 0.7120458995741566\n",
      "2011 : -1.340766184227113\n",
      "2012 : 0.36135598846632266\n",
      "2013 : -0.9118715649533841\n",
      "2014 : -0.1028267371673672\n",
      "2015 : 0.27783453432365907\n",
      "2016 : -0.08438021339630103\n",
      "2017 : 1.1158376481041756\n",
      "2018 : 0.7098081388932673\n",
      "2019 : 1.2821052818240242\n",
      "2020 : 4.618223203856487\n"
     ]
    }
   ],
   "source": [
    "from numpy import sort\n",
    "\n",
    "\n",
    "years = sort(file2['year'].unique())\n",
    "for i in range(1,len(file2['year'].unique())):\n",
    "    year1 = years[i-1]\n",
    "    year2 = years[i]\n",
    "    val = ((file2[file2['year'] ==  year2]['Life Ladder'].mean() - file2[file2['year'] ==  year1]['Life Ladder'].mean())/file2[file2['year'] ==  year2]['Life Ladder'].mean())*100\n",
    "    print(f\"{year2} : {val}\")"
   ]
  },
  {
   "cell_type": "markdown",
   "metadata": {},
   "source": [
    "From 2005 to 2020.\n",
    "\n",
    "The life ladder value has decreased a lot.\n",
    "\n",
    "From 2006 to 2016, We can see that the global life ladder hasn't seen much of increase (We can only see  around 0 to 4 % increase).\n",
    "\n",
    "But From the year 2017, we can see that the life ladder is increasing little by little (But not achieved the highest life ladder since 2005)"
   ]
  },
  {
   "cell_type": "markdown",
   "metadata": {},
   "source": [
    "# 🗒️ Answer\n",
    "The global life ladder, which measures subjective well-being, decreased from 2005 to 2016 due to various factors such as economic instability, political unrest, and social challenges [[5](https://www.researchgate.net/figure/Changes-in-Happiness-from-2005-2008-to-2016-2018-Part-1_fig5_332264007)]. These factors can impact people's perceptions of their overall life satisfaction and happiness. Additionally, changes in income inequality, health outcomes, and environmental concerns may have contributed to the decline in subjective well-being during this period [[2](https://ourworldindata.org/happiness-and-life-satisfaction)].\n",
    "\n",
    "# 🌐 Sources\n",
    "1. [ResearchGate - Changes in Happiness from 2005-2008 to 2016-2018 (Part ...](https://www.researchgate.net/figure/Changes-in-Happiness-from-2005-2008-to-2016-2018-Part-1_fig5_332264007)\n",
    "2. [Our World in Data - Happiness and Life Satisfaction](https://ourworldindata.org/happiness-and-life-satisfaction)"
   ]
  },
  {
   "cell_type": "markdown",
   "metadata": {},
   "source": [
    "## Social Support."
   ]
  },
  {
   "cell_type": "code",
   "execution_count": 29,
   "metadata": {},
   "outputs": [
    {
     "data": {
      "text/plain": [
       "0.987"
      ]
     },
     "execution_count": 29,
     "metadata": {},
     "output_type": "execute_result"
    }
   ],
   "source": [
    "file2['Social support'].max()"
   ]
  },
  {
   "cell_type": "code",
   "execution_count": 30,
   "metadata": {},
   "outputs": [
    {
     "data": {
      "text/plain": [
       "Country name      New Zealand\n",
       "year                     2015\n",
       "Social support          0.987\n",
       "Name: 1233, dtype: object"
      ]
     },
     "execution_count": 30,
     "metadata": {},
     "output_type": "execute_result"
    }
   ],
   "source": [
    "file2.iloc[file2['Social support'].idxmax(), [0,1,4]] # type: ignore"
   ]
  },
  {
   "cell_type": "code",
   "execution_count": 31,
   "metadata": {},
   "outputs": [
    {
     "data": {
      "text/plain": [
       "7.418"
      ]
     },
     "execution_count": 31,
     "metadata": {},
     "output_type": "execute_result"
    }
   ],
   "source": [
    "# The Life Ladder for that year in New Zealand \n",
    "\n",
    "file2.iloc[file2['Social support'].idxmax(), 2]  # type: ignore"
   ]
  },
  {
   "cell_type": "code",
   "execution_count": 32,
   "metadata": {},
   "outputs": [
    {
     "data": {
      "text/plain": [
       "0.6590242332991693"
      ]
     },
     "execution_count": 32,
     "metadata": {},
     "output_type": "execute_result"
    }
   ],
   "source": [
    "file2['Social support'].corr(file2['Life Ladder'])"
   ]
  },
  {
   "cell_type": "markdown",
   "metadata": {},
   "source": [
    "we can observe a little of correlation between social support and life ladder. "
   ]
  },
  {
   "cell_type": "code",
   "execution_count": 33,
   "metadata": {},
   "outputs": [
    {
     "data": {
      "text/plain": [
       "0.8389157894736843"
      ]
     },
     "execution_count": 33,
     "metadata": {},
     "output_type": "execute_result"
    }
   ],
   "source": [
    "file2[file2['year'] == 2020]['Social support'].mean()"
   ]
  },
  {
   "cell_type": "code",
   "execution_count": 34,
   "metadata": {},
   "outputs": [
    {
     "name": "stdout",
     "output_type": "stream",
     "text": [
      "2006 : -7.369915790741982\n",
      "2007 : -3.081491649657314\n",
      "2008 : -3.3698274692513164\n",
      "2009 : 4.279085790357678\n",
      "2010 : 1.5973335752660685\n",
      "2011 : -5.352128502291767\n",
      "2012 : 2.300354451920641\n",
      "2013 : -0.3110310581110499\n",
      "2014 : 0.051757564498744676\n",
      "2015 : -1.0632538752824903\n",
      "2016 : 1.651920406528391\n",
      "2017 : -0.7780926908440604\n",
      "2018 : 0.8271386541318162\n",
      "2019 : 0.5443978465497887\n",
      "2020 : 2.637228084704155\n"
     ]
    }
   ],
   "source": [
    "from numpy import sort\n",
    "\n",
    "\n",
    "years = sort(file2['year'].unique())\n",
    "for i in range(1,len(file2['year'].unique())):\n",
    "    year1 = years[i-1]\n",
    "    year2 = years[i]\n",
    "    val = ((file2[file2['year'] ==  year2]['Social support'].mean() - file2[file2['year'] ==  year1]['Social support'].mean())/file2[file2['year'] ==  year2]['Social support'].mean())*100\n",
    "    print(f\"{year2} : {val}\")"
   ]
  },
  {
   "cell_type": "markdown",
   "metadata": {},
   "source": [
    "We can observe the Same Trend as the Life Ladder with little bit of changes in the Social support.\n",
    "\n",
    "The Social support has decreased a lot compared to increasing. And it's increasing stably from the year 2018(More like no decrement)"
   ]
  },
  {
   "cell_type": "markdown",
   "metadata": {},
   "source": [
    "we can observe that the Social support has increased a lot from the year 2008 to 2009. (Percentage wise)"
   ]
  },
  {
   "cell_type": "markdown",
   "metadata": {},
   "source": [
    "# 🗒️ Answer\n",
    "The increase in social support from 2008 to 2009 could be attributed to factors such as community initiatives, government policies, or changes in societal attitudes, as people often come together during times of economic downturn or crisis to provide support [[6](https://worldhappiness.report/ed/2019/changing-world-happiness/)]. However, the subsequent decrease in social support could be influenced by economic instability, changes in government policies, or shifts in societal dynamics. Economic downturns, changes in employment rates, or shifts in government priorities may strain social support systems and impact the availability of resources, leading to a decline in overall social support [[2](https://ourworldindata.org/happiness-and-life-satisfaction)]. Additionally, changes in social norms or cultural factors could play a role in shaping perceptions of social support over time.\n",
    "\n",
    "# 🌐 Sources\n",
    "2. [Happiness and Life Satisfaction](https://ourworldindata.org/happiness-and-life-satisfaction)\n",
    "6. [Changing World Happiness](https://worldhappiness.report/ed/2019/changing-world-happiness/)"
   ]
  },
  {
   "cell_type": "code",
   "execution_count": 35,
   "metadata": {},
   "outputs": [
    {
     "data": {
      "image/png": "[encoded data removed]",
      "text/plain": [
       "<Figure size 1500x700 with 1 Axes>"
      ]
     },
     "metadata": {},
     "output_type": "display_data"
    }
   ],
   "source": [
    "plt.figure(figsize = (15, 7))\n",
    "plt.plot(file2.groupby('year')['Life Ladder'].mean(), color = 'orange', linewidth = 1.2, label = 'Life Ladder', marker = '+')\n",
    "plt.grid()\n",
    "plt.xlabel(\"Year\")\n",
    "plt.ylabel(\"Life Ladder Value\")\n",
    "plt.title(\"Life Ladder Through years\")\n",
    "plt.xticks(np.arange(2005, 2021))\n",
    "plt.show()"
   ]
  },
  {
   "cell_type": "code",
   "execution_count": 36,
   "metadata": {},
   "outputs": [
    {
     "data": {
      "image/png": "[encoded data removed]",
      "text/plain": [
       "<Figure size 1500x700 with 1 Axes>"
      ]
     },
     "metadata": {},
     "output_type": "display_data"
    }
   ],
   "source": [
    "plt.figure(figsize = (15, 7))\n",
    "plt.plot(file2.groupby('year')['Social support'].mean(), color = 'orange', linewidth = 1.2, label = 'Life Ladder', marker = '+')\n",
    "plt.grid()\n",
    "plt.xlabel(\"Year\")\n",
    "plt.ylabel(\"Social Support Value\")\n",
    "plt.title(\"Social Support Through years\")\n",
    "plt.xticks(np.arange(2005, 2021))\n",
    "plt.show()"
   ]
  }
 ],
 "metadata": {
  "kernelspec": {
   "display_name": "Python 3",
   "language": "python",
   "name": "python3"
  },
  "language_info": {
   "codemirror_mode": {
    "name": "ipython",
    "version": 3
   },
   "file_extension": ".py",
   "mimetype": "text/x-python",
   "name": "python",
   "nbconvert_exporter": "python",
   "pygments_lexer": "ipython3",
   "version": "3.11.8"
  }
 },
 "nbformat": 4,
 "nbformat_minor": 2
}
